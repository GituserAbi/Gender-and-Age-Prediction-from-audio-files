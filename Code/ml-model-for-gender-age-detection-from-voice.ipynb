{
 "cells": [
  {
   "cell_type": "markdown",
   "id": "sexual-alaska",
   "metadata": {
    "execution": {
     "iopub.execute_input": "2021-05-30T18:34:44.533912Z",
     "iopub.status.busy": "2021-05-30T18:34:44.533558Z",
     "iopub.status.idle": "2021-05-30T18:34:44.876803Z",
     "shell.execute_reply": "2021-05-30T18:34:44.875925Z",
     "shell.execute_reply.started": "2021-05-30T18:34:44.53388Z"
    },
    "papermill": {
     "duration": 0.021929,
     "end_time": "2022-12-28T17:23:42.966454",
     "exception": false,
     "start_time": "2022-12-28T17:23:42.944525",
     "status": "completed"
    },
    "tags": []
   },
   "source": [
    "## **ML-Model to detect gender age based on his/her voice**   \n",
    "In this notebook, I am using a common-voice dataset to train a model for detecting age of \n",
    "a person based on his/her voice"
   ]
  },
  {
   "cell_type": "markdown",
   "id": "integrated-ribbon",
   "metadata": {
    "papermill": {
     "duration": 0.019666,
     "end_time": "2022-12-28T17:23:43.006713",
     "exception": false,
     "start_time": "2022-12-28T17:23:42.987047",
     "status": "completed"
    },
    "tags": []
   },
   "source": [
    "### **Stepwise ML-model development**  \n",
    "This notebook is created for beginners to develop age detection ml-model with stepwise approach using common-voice dataset.\n",
    "The notebook include following steps:\n",
    "* Data Collection\n",
    "* Data Pre-processing \n",
    "* Feature Engineering\n",
    "* Model Selection\n",
    "* Model Analysis\n",
    "* Model Deployment"
   ]
  },
  {
   "cell_type": "markdown",
   "id": "excited-finger",
   "metadata": {
    "papermill": {
     "duration": 0.019783,
     "end_time": "2022-12-28T17:23:43.046441",
     "exception": false,
     "start_time": "2022-12-28T17:23:43.026658",
     "status": "completed"
    },
    "tags": []
   },
   "source": [
    "### **Step-01 Data Collection**  \n",
    "In this step the data is loaded and explored. The data is understood with basic graphs and to check if the dataset is balanced."
   ]
  },
  {
   "cell_type": "code",
   "execution_count": 1,
   "id": "judicial-origin",
   "metadata": {
    "execution": {
     "iopub.execute_input": "2022-12-28T17:23:43.095537Z",
     "iopub.status.busy": "2022-12-28T17:23:43.094839Z",
     "iopub.status.idle": "2022-12-28T17:23:44.648324Z",
     "shell.execute_reply": "2022-12-28T17:23:44.647671Z",
     "shell.execute_reply.started": "2022-12-28T17:11:55.404809Z"
    },
    "papermill": {
     "duration": 1.581988,
     "end_time": "2022-12-28T17:23:44.648503",
     "exception": false,
     "start_time": "2022-12-28T17:23:43.066515",
     "status": "completed"
    },
    "tags": []
   },
   "outputs": [
    {
     "data": {
      "text/html": [
       "<div>\n",
       "<style scoped>\n",
       "    .dataframe tbody tr th:only-of-type {\n",
       "        vertical-align: middle;\n",
       "    }\n",
       "\n",
       "    .dataframe tbody tr th {\n",
       "        vertical-align: top;\n",
       "    }\n",
       "\n",
       "    .dataframe thead th {\n",
       "        text-align: right;\n",
       "    }\n",
       "</style>\n",
       "<table border=\"1\" class=\"dataframe\">\n",
       "  <thead>\n",
       "    <tr style=\"text-align: right;\">\n",
       "      <th></th>\n",
       "      <th>filename</th>\n",
       "      <th>text</th>\n",
       "      <th>up_votes</th>\n",
       "      <th>down_votes</th>\n",
       "      <th>age</th>\n",
       "      <th>gender</th>\n",
       "      <th>accent</th>\n",
       "      <th>duration</th>\n",
       "    </tr>\n",
       "  </thead>\n",
       "  <tbody>\n",
       "    <tr>\n",
       "      <th>5</th>\n",
       "      <td>cv-valid-train/sample-000005.mp3</td>\n",
       "      <td>a shepherd may like to travel but he should ne...</td>\n",
       "      <td>1</td>\n",
       "      <td>0</td>\n",
       "      <td>twenties</td>\n",
       "      <td>female</td>\n",
       "      <td>us</td>\n",
       "      <td>NaN</td>\n",
       "    </tr>\n",
       "    <tr>\n",
       "      <th>8</th>\n",
       "      <td>cv-valid-train/sample-000008.mp3</td>\n",
       "      <td>put jackie right on the staff</td>\n",
       "      <td>3</td>\n",
       "      <td>0</td>\n",
       "      <td>seventies</td>\n",
       "      <td>male</td>\n",
       "      <td>us</td>\n",
       "      <td>NaN</td>\n",
       "    </tr>\n",
       "    <tr>\n",
       "      <th>13</th>\n",
       "      <td>cv-valid-train/sample-000013.mp3</td>\n",
       "      <td>but he had found a guide and didn't want to mi...</td>\n",
       "      <td>1</td>\n",
       "      <td>0</td>\n",
       "      <td>thirties</td>\n",
       "      <td>female</td>\n",
       "      <td>us</td>\n",
       "      <td>NaN</td>\n",
       "    </tr>\n",
       "    <tr>\n",
       "      <th>14</th>\n",
       "      <td>cv-valid-train/sample-000014.mp3</td>\n",
       "      <td>as they began to decorate the hallway a silhou...</td>\n",
       "      <td>1</td>\n",
       "      <td>0</td>\n",
       "      <td>sixties</td>\n",
       "      <td>male</td>\n",
       "      <td>england</td>\n",
       "      <td>NaN</td>\n",
       "    </tr>\n",
       "    <tr>\n",
       "      <th>19</th>\n",
       "      <td>cv-valid-train/sample-000019.mp3</td>\n",
       "      <td>then they got ahold of some dough and went goofy</td>\n",
       "      <td>1</td>\n",
       "      <td>0</td>\n",
       "      <td>fifties</td>\n",
       "      <td>male</td>\n",
       "      <td>australia</td>\n",
       "      <td>NaN</td>\n",
       "    </tr>\n",
       "  </tbody>\n",
       "</table>\n",
       "</div>"
      ],
      "text/plain": [
       "                            filename  \\\n",
       "5   cv-valid-train/sample-000005.mp3   \n",
       "8   cv-valid-train/sample-000008.mp3   \n",
       "13  cv-valid-train/sample-000013.mp3   \n",
       "14  cv-valid-train/sample-000014.mp3   \n",
       "19  cv-valid-train/sample-000019.mp3   \n",
       "\n",
       "                                                 text  up_votes  down_votes  \\\n",
       "5   a shepherd may like to travel but he should ne...         1           0   \n",
       "8                       put jackie right on the staff         3           0   \n",
       "13  but he had found a guide and didn't want to mi...         1           0   \n",
       "14  as they began to decorate the hallway a silhou...         1           0   \n",
       "19   then they got ahold of some dough and went goofy         1           0   \n",
       "\n",
       "          age  gender     accent  duration  \n",
       "5    twenties  female         us       NaN  \n",
       "8   seventies    male         us       NaN  \n",
       "13   thirties  female         us       NaN  \n",
       "14    sixties    male    england       NaN  \n",
       "19    fifties    male  australia       NaN  "
      ]
     },
     "execution_count": 1,
     "metadata": {},
     "output_type": "execute_result"
    }
   ],
   "source": [
    "import numpy as np # linear algebra\n",
    "import pandas as pd # data processing, CSV file I/O (e.g. pd.read_csv)\n",
    "import matplotlib.pyplot as plt # visualizing data\n",
    "import seaborn as sns # visualizing data with stunning default theme\n",
    "import sklearn # contain algorithms\n",
    "import warnings\n",
    "warnings.filterwarnings('ignore')\n",
    "\n",
    "# load dataset from input directory\n",
    "df = pd.read_csv(\"../input/common-voice/cv-valid-train.csv\") \n",
    "df[df['age'].notna()].head()"
   ]
  },
  {
   "cell_type": "code",
   "execution_count": 2,
   "id": "abstract-mobility",
   "metadata": {
    "execution": {
     "iopub.execute_input": "2022-12-28T17:23:44.695061Z",
     "iopub.status.busy": "2022-12-28T17:23:44.694025Z",
     "iopub.status.idle": "2022-12-28T17:23:44.980321Z",
     "shell.execute_reply": "2022-12-28T17:23:44.980923Z",
     "shell.execute_reply.started": "2022-12-28T17:12:18.905746Z"
    },
    "papermill": {
     "duration": 0.310666,
     "end_time": "2022-12-28T17:23:44.981103",
     "exception": false,
     "start_time": "2022-12-28T17:23:44.670437",
     "status": "completed"
    },
    "tags": []
   },
   "outputs": [
    {
     "data": {
      "image/png": "[encoded data removed]",
      "text/plain": [
       "<Figure size 1080x360 with 1 Axes>"
      ]
     },
     "metadata": {},
     "output_type": "display_data"
    }
   ],
   "source": [
    "sns.set(rc={'figure.figsize':(15, 5)})\n",
    "sns.countplot(x=\"age\", \n",
    "        data=df[df['age'].notna()], \n",
    "        order=['teens', 'twenties', 'thirties', 'fourties', 'fifties', 'sixties', 'seventies', 'eighties'])\n",
    "\n",
    "plt.show()\n"
   ]
  },
  {
   "cell_type": "code",
   "execution_count": 3,
   "id": "touched-growth",
   "metadata": {
    "execution": {
     "iopub.execute_input": "2022-12-28T17:23:45.026727Z",
     "iopub.status.busy": "2022-12-28T17:23:45.026076Z",
     "iopub.status.idle": "2022-12-28T17:23:45.409257Z",
     "shell.execute_reply": "2022-12-28T17:23:45.409775Z",
     "shell.execute_reply.started": "2022-12-28T17:12:26.474912Z"
    },
    "papermill": {
     "duration": 0.407694,
     "end_time": "2022-12-28T17:23:45.409977",
     "exception": false,
     "start_time": "2022-12-28T17:23:45.002283",
     "status": "completed"
    },
    "tags": []
   },
   "outputs": [
    {
     "data": {
      "image/png": "[encoded data removed]",
      "text/plain": [
       "<Figure size 1080x360 with 1 Axes>"
      ]
     },
     "metadata": {},
     "output_type": "display_data"
    }
   ],
   "source": [
    "sns.countplot(x=\"age\", \n",
    "        hue='gender',\n",
    "        data=df[df['age'].notna()],\n",
    "        order=['teens', 'twenties', 'thirties', 'fourties', 'fifties', 'sixties', 'seventies', 'eighties'])\n",
    "\n",
    "plt.show()"
   ]
  },
  {
   "cell_type": "code",
   "execution_count": 4,
   "id": "violent-diving",
   "metadata": {
    "execution": {
     "iopub.execute_input": "2022-12-28T17:23:45.458384Z",
     "iopub.status.busy": "2022-12-28T17:23:45.457673Z",
     "iopub.status.idle": "2022-12-28T17:23:46.392725Z",
     "shell.execute_reply": "2022-12-28T17:23:46.392163Z",
     "shell.execute_reply.started": "2022-12-28T17:12:37.845643Z"
    },
    "papermill": {
     "duration": 0.960122,
     "end_time": "2022-12-28T17:23:46.392871",
     "exception": false,
     "start_time": "2022-12-28T17:23:45.432749",
     "status": "completed"
    },
    "tags": []
   },
   "outputs": [
    {
     "data": {
      "image/png": "[encoded data removed]",
      "text/plain": [
       "<Figure size 1373.97x360 with 1 Axes>"
      ]
     },
     "metadata": {},
     "output_type": "display_data"
    }
   ],
   "source": [
    "sns.displot(x=\"accent\", \n",
    "        data=df[df['accent'].notna()], \n",
    "        hue='gender',\n",
    "        multiple='stack',\n",
    "        height=5, aspect=18/5)\n",
    "\n",
    "plt.show()"
   ]
  },
  {
   "cell_type": "code",
   "execution_count": 5,
   "id": "genuine-peter",
   "metadata": {
    "execution": {
     "iopub.execute_input": "2022-12-28T17:23:46.463432Z",
     "iopub.status.busy": "2022-12-28T17:23:46.454006Z",
     "iopub.status.idle": "2022-12-28T17:23:46.878824Z",
     "shell.execute_reply": "2022-12-28T17:23:46.878244Z",
     "shell.execute_reply.started": "2022-12-28T17:12:45.866164Z"
    },
    "papermill": {
     "duration": 0.462814,
     "end_time": "2022-12-28T17:23:46.879018",
     "exception": false,
     "start_time": "2022-12-28T17:23:46.416204",
     "status": "completed"
    },
    "tags": []
   },
   "outputs": [
    {
     "name": "stdout",
     "output_type": "stream",
     "text": [
      "initial: (195776, 8) final: (63163, 8)\n"
     ]
    },
    {
     "data": {
      "image/png": "[encoded data removed]",
      "text/plain": [
       "<Figure size 1080x360 with 1 Axes>"
      ]
     },
     "metadata": {},
     "output_type": "display_data"
    }
   ],
   "source": [
    "#del df['duration']\n",
    "start=df.shape\n",
    "#df.isna().sum()\n",
    "end = df[df['age'].notna()& df['gender'].notna() & df['accent'].notna()].shape\n",
    "print(\"initial: {} final: {}\".format(start, end))\n",
    "sns.countplot(x=\"age\", \n",
    "        hue='gender',\n",
    "        data=df[df['age'].notna()& df['gender'].notna() & df['accent'].notna()],\n",
    "        order=['teens', 'twenties', 'thirties', 'fourties', 'fifties', 'sixties', 'seventies', 'eighties'])\n",
    "\n",
    "plt.show()"
   ]
  },
  {
   "cell_type": "markdown",
   "id": "animated-jumping",
   "metadata": {
    "papermill": {
     "duration": 0.023977,
     "end_time": "2022-12-28T17:23:46.928406",
     "exception": false,
     "start_time": "2022-12-28T17:23:46.904429",
     "status": "completed"
    },
    "tags": []
   },
   "source": [
    "#### **First-step findings**\n",
    "We understood the dataset and also found that the dataset is imbalance. To refine the dataset for ml-model, we need to perform pre-processing in next-step."
   ]
  },
  {
   "cell_type": "markdown",
   "id": "devoted-stationery",
   "metadata": {
    "papermill": {
     "duration": 0.024277,
     "end_time": "2022-12-28T17:23:46.977144",
     "exception": false,
     "start_time": "2022-12-28T17:23:46.952867",
     "status": "completed"
    },
    "tags": []
   },
   "source": [
    "### Data Pre-processing  \n",
    "#### Data Cleaning  \n",
    "In this step we drop entries(samples) with NaN values. The columns that doesn't contribute(unnecessary) to the model are removed. The attributes are checked for its datatypes and changed to an approapriate type."
   ]
  },
  {
   "cell_type": "code",
   "execution_count": null,
   "id": "patient-assistant",
   "metadata": {
    "papermill": {
     "duration": 0.023962,
     "end_time": "2022-12-28T17:23:47.025476",
     "exception": false,
     "start_time": "2022-12-28T17:23:47.001514",
     "status": "completed"
    },
    "tags": []
   },
   "outputs": [],
   "source": []
  },
  {
   "cell_type": "code",
   "execution_count": 6,
   "id": "manufactured-incentive",
   "metadata": {
    "execution": {
     "iopub.execute_input": "2022-12-28T17:23:47.110877Z",
     "iopub.status.busy": "2022-12-28T17:23:47.102029Z",
     "iopub.status.idle": "2022-12-28T17:23:47.127314Z",
     "shell.execute_reply": "2022-12-28T17:23:47.126749Z",
     "shell.execute_reply.started": "2022-12-28T17:12:57.930556Z"
    },
    "papermill": {
     "duration": 0.077665,
     "end_time": "2022-12-28T17:23:47.127461",
     "exception": false,
     "start_time": "2022-12-28T17:23:47.049796",
     "status": "completed"
    },
    "tags": []
   },
   "outputs": [
    {
     "data": {
      "text/html": [
       "<div>\n",
       "<style scoped>\n",
       "    .dataframe tbody tr th:only-of-type {\n",
       "        vertical-align: middle;\n",
       "    }\n",
       "\n",
       "    .dataframe tbody tr th {\n",
       "        vertical-align: top;\n",
       "    }\n",
       "\n",
       "    .dataframe thead th {\n",
       "        text-align: right;\n",
       "    }\n",
       "</style>\n",
       "<table border=\"1\" class=\"dataframe\">\n",
       "  <thead>\n",
       "    <tr style=\"text-align: right;\">\n",
       "      <th></th>\n",
       "      <th>filename</th>\n",
       "      <th>age</th>\n",
       "      <th>gender</th>\n",
       "    </tr>\n",
       "  </thead>\n",
       "  <tbody>\n",
       "    <tr>\n",
       "      <th>0</th>\n",
       "      <td>cv-valid-train/sample-000005.mp3</td>\n",
       "      <td>twenties</td>\n",
       "      <td>female</td>\n",
       "    </tr>\n",
       "    <tr>\n",
       "      <th>1</th>\n",
       "      <td>cv-valid-train/sample-000008.mp3</td>\n",
       "      <td>seventies</td>\n",
       "      <td>male</td>\n",
       "    </tr>\n",
       "    <tr>\n",
       "      <th>2</th>\n",
       "      <td>cv-valid-train/sample-000013.mp3</td>\n",
       "      <td>thirties</td>\n",
       "      <td>female</td>\n",
       "    </tr>\n",
       "    <tr>\n",
       "      <th>3</th>\n",
       "      <td>cv-valid-train/sample-000014.mp3</td>\n",
       "      <td>sixties</td>\n",
       "      <td>male</td>\n",
       "    </tr>\n",
       "    <tr>\n",
       "      <th>4</th>\n",
       "      <td>cv-valid-train/sample-000019.mp3</td>\n",
       "      <td>fifties</td>\n",
       "      <td>male</td>\n",
       "    </tr>\n",
       "  </tbody>\n",
       "</table>\n",
       "</div>"
      ],
      "text/plain": [
       "                           filename        age  gender\n",
       "0  cv-valid-train/sample-000005.mp3   twenties  female\n",
       "1  cv-valid-train/sample-000008.mp3  seventies    male\n",
       "2  cv-valid-train/sample-000013.mp3   thirties  female\n",
       "3  cv-valid-train/sample-000014.mp3    sixties    male\n",
       "4  cv-valid-train/sample-000019.mp3    fifties    male"
      ]
     },
     "execution_count": 6,
     "metadata": {},
     "output_type": "execute_result"
    }
   ],
   "source": [
    "#we extract the columns that we think useful are\n",
    "df = df[['filename','age','gender']]\n",
    "#To clean the data we remove the sample with NaN attribute values.\n",
    "data = df[df['age'].notna() & df['gender'].notna()]\n",
    "data.reset_index(inplace=True, drop=True)\n",
    "data.head()"
   ]
  },
  {
   "cell_type": "code",
   "execution_count": 7,
   "id": "respiratory-possibility",
   "metadata": {
    "execution": {
     "iopub.execute_input": "2022-12-28T17:23:47.189058Z",
     "iopub.status.busy": "2022-12-28T17:23:47.181519Z",
     "iopub.status.idle": "2022-12-28T17:23:47.226645Z",
     "shell.execute_reply": "2022-12-28T17:23:47.226079Z",
     "shell.execute_reply.started": "2022-12-28T17:13:03.745068Z"
    },
    "papermill": {
     "duration": 0.074551,
     "end_time": "2022-12-28T17:23:47.226793",
     "exception": false,
     "start_time": "2022-12-28T17:23:47.152242",
     "status": "completed"
    },
    "tags": []
   },
   "outputs": [
    {
     "data": {
      "text/html": [
       "<div>\n",
       "<style scoped>\n",
       "    .dataframe tbody tr th:only-of-type {\n",
       "        vertical-align: middle;\n",
       "    }\n",
       "\n",
       "    .dataframe tbody tr th {\n",
       "        vertical-align: top;\n",
       "    }\n",
       "\n",
       "    .dataframe thead th {\n",
       "        text-align: right;\n",
       "    }\n",
       "</style>\n",
       "<table border=\"1\" class=\"dataframe\">\n",
       "  <thead>\n",
       "    <tr style=\"text-align: right;\">\n",
       "      <th></th>\n",
       "      <th>filename</th>\n",
       "      <th>age</th>\n",
       "      <th>gender</th>\n",
       "    </tr>\n",
       "  </thead>\n",
       "  <tbody>\n",
       "    <tr>\n",
       "      <th>0</th>\n",
       "      <td>cv-valid-train/sample-000005.mp3</td>\n",
       "      <td>twenties</td>\n",
       "      <td>0.0</td>\n",
       "    </tr>\n",
       "    <tr>\n",
       "      <th>1</th>\n",
       "      <td>cv-valid-train/sample-000008.mp3</td>\n",
       "      <td>seventies</td>\n",
       "      <td>1.0</td>\n",
       "    </tr>\n",
       "    <tr>\n",
       "      <th>2</th>\n",
       "      <td>cv-valid-train/sample-000013.mp3</td>\n",
       "      <td>thirties</td>\n",
       "      <td>0.0</td>\n",
       "    </tr>\n",
       "    <tr>\n",
       "      <th>3</th>\n",
       "      <td>cv-valid-train/sample-000014.mp3</td>\n",
       "      <td>sixties</td>\n",
       "      <td>1.0</td>\n",
       "    </tr>\n",
       "    <tr>\n",
       "      <th>4</th>\n",
       "      <td>cv-valid-train/sample-000019.mp3</td>\n",
       "      <td>fifties</td>\n",
       "      <td>1.0</td>\n",
       "    </tr>\n",
       "  </tbody>\n",
       "</table>\n",
       "</div>"
      ],
      "text/plain": [
       "                           filename        age  gender\n",
       "0  cv-valid-train/sample-000005.mp3   twenties     0.0\n",
       "1  cv-valid-train/sample-000008.mp3  seventies     1.0\n",
       "2  cv-valid-train/sample-000013.mp3   thirties     0.0\n",
       "3  cv-valid-train/sample-000014.mp3    sixties     1.0\n",
       "4  cv-valid-train/sample-000019.mp3    fifties     1.0"
      ]
     },
     "execution_count": 7,
     "metadata": {},
     "output_type": "execute_result"
    }
   ],
   "source": [
    "#data['gender'] = pd.to_numeric(data['gender'],errors = 'coerce')\n",
    "#data.dtypes\n",
    "#if the below code fail to covert gender datatype and values then uncomment above code\n",
    "cleanup_nums = {\"gender\": {\"male\":1,\"female\":0,\"other\":0.5}}\n",
    "data = data.replace(cleanup_nums)\n",
    "data.head()"
   ]
  },
  {
   "cell_type": "markdown",
   "id": "apart-tiger",
   "metadata": {
    "papermill": {
     "duration": 0.02499,
     "end_time": "2022-12-28T17:23:47.276990",
     "exception": false,
     "start_time": "2022-12-28T17:23:47.252000",
     "status": "completed"
    },
    "tags": []
   },
   "source": [
    "### **Feature Engineering**\n",
    "#### **Feature Extraction**\n",
    "\n",
    "We extract the following features:  \n",
    "The following features are related to audio quality through which the model will learn more effectively. In this project it is not necessary to have good knowledge about the given audio features.\n",
    "**Gender**\n",
    "* **Spectral Centroid**: each frame of a magnitude spectrogram is normalized and treated as a distribution over frequency bins, from which the mean (centroid) is extracted per frame\n",
    "* **Spectral Bandwidth**: compute 2nd-order spectral bandwidth\n",
    "* **Spectral Rolloff**: the center frequency for a spectrogram bin such that at least roll_percent (0.85 by default) of the energy of the spectrum in this frame is contained in this bin and the bins below\n",
    "* **Mel Frequency Cepstral Coefficients (MFCCs)**: a small set of 20 features that describe the overall shape of a spectral envelope\n",
    "\n",
    "**Librosa package**  \n",
    "Librosa is a Python package for music and audio analysis. It provides the building blocks necessary to create the music information retrieval systems. Librosa helps to visualize the audio signals and also do the feature extractions in it using different signal processing techniques."
   ]
  },
  {
   "cell_type": "code",
   "execution_count": 8,
   "id": "approved-indiana",
   "metadata": {
    "execution": {
     "iopub.execute_input": "2022-12-28T17:23:47.445643Z",
     "iopub.status.busy": "2022-12-28T17:23:47.444898Z",
     "iopub.status.idle": "2022-12-28T17:23:49.459410Z",
     "shell.execute_reply": "2022-12-28T17:23:49.460499Z",
     "shell.execute_reply.started": "2022-12-28T17:14:42.036320Z"
    },
    "papermill": {
     "duration": 2.156229,
     "end_time": "2022-12-28T17:23:49.460778",
     "exception": false,
     "start_time": "2022-12-28T17:23:47.304549",
     "status": "completed"
    },
    "tags": []
   },
   "outputs": [
    {
     "name": "stdout",
     "output_type": "stream",
     "text": [
      "features:  [0.0, 2679.9395691628692, 3347.669488765762, 5745.486745886655, -625.21814, 111.32094, 6.3269944, 34.757614, 31.619902, -4.714646, -0.48603064, -4.9340243, -12.714733, -2.0551484, -3.7411177, -10.702963, -11.202637, -12.003523, -8.48958, -5.463276, -4.9542165, -3.7151983, -6.3305287, -6.3384743]\n"
     ]
    }
   ],
   "source": [
    "import librosa\n",
    "ds_path = \"/kaggle/input/common-voice/cv-valid-train/\"\n",
    "\n",
    "#this function is used to extract audio frequency features\n",
    "def feature_extraction(filename, sampling_rate=48000):\n",
    "    path = \"{}{}\".format(ds_path, filename)\n",
    "    features = list()\n",
    "    audio, _ = librosa.load(path, sr=sampling_rate)\n",
    "    \n",
    "    gender = data[data['filename'] == filename].gender.values[0]\n",
    "    spectral_centroid = np.mean(librosa.feature.spectral_centroid(y=audio, sr=sampling_rate))\n",
    "    spectral_bandwidth = np.mean(librosa.feature.spectral_bandwidth(y=audio, sr=sampling_rate))\n",
    "    spectral_rolloff = np.mean(librosa.feature.spectral_rolloff(y=audio, sr=sampling_rate))\n",
    "    features.append(gender)\n",
    "    features.append(spectral_centroid)\n",
    "    features.append(spectral_bandwidth)\n",
    "    features.append(spectral_rolloff)\n",
    "    \n",
    "    mfcc = librosa.feature.mfcc(y=audio, sr=sampling_rate)\n",
    "    for el in mfcc:\n",
    "        features.append(np.mean(el))\n",
    "    \n",
    "    return features\n",
    "    \n",
    "        \n",
    "features = feature_extraction(data.iloc[0]['filename'])\n",
    "print(\"features: \", features)"
   ]
  },
  {
   "cell_type": "code",
   "execution_count": 9,
   "id": "progressive-temperature",
   "metadata": {
    "execution": {
     "iopub.execute_input": "2022-12-28T17:23:49.555769Z",
     "iopub.status.busy": "2022-12-28T17:23:49.554655Z",
     "iopub.status.idle": "2022-12-28T20:27:18.294164Z",
     "shell.execute_reply": "2022-12-28T20:27:18.294843Z"
    },
    "papermill": {
     "duration": 11008.793231,
     "end_time": "2022-12-28T20:27:18.295094",
     "exception": false,
     "start_time": "2022-12-28T17:23:49.501863",
     "status": "completed"
    },
    "tags": []
   },
   "outputs": [
    {
     "name": "stdout",
     "output_type": "stream",
     "text": [
      "55000/73465"
     ]
    },
    {
     "data": {
      "text/html": [
       "<div>\n",
       "<style scoped>\n",
       "    .dataframe tbody tr th:only-of-type {\n",
       "        vertical-align: middle;\n",
       "    }\n",
       "\n",
       "    .dataframe tbody tr th {\n",
       "        vertical-align: top;\n",
       "    }\n",
       "\n",
       "    .dataframe thead th {\n",
       "        text-align: right;\n",
       "    }\n",
       "</style>\n",
       "<table border=\"1\" class=\"dataframe\">\n",
       "  <thead>\n",
       "    <tr style=\"text-align: right;\">\n",
       "      <th></th>\n",
       "      <th>gender</th>\n",
       "      <th>spectral_centroid</th>\n",
       "      <th>spectral_bandwidth</th>\n",
       "      <th>spectral_rolloff</th>\n",
       "      <th>mfcc1</th>\n",
       "      <th>mfcc2</th>\n",
       "      <th>mfcc3</th>\n",
       "      <th>mfcc4</th>\n",
       "      <th>mfcc5</th>\n",
       "      <th>mfcc6</th>\n",
       "      <th>...</th>\n",
       "      <th>mfcc12</th>\n",
       "      <th>mfcc13</th>\n",
       "      <th>mfcc14</th>\n",
       "      <th>mfcc15</th>\n",
       "      <th>mfcc16</th>\n",
       "      <th>mfcc17</th>\n",
       "      <th>mfcc18</th>\n",
       "      <th>mfcc19</th>\n",
       "      <th>mfcc20</th>\n",
       "      <th>label</th>\n",
       "    </tr>\n",
       "  </thead>\n",
       "  <tbody>\n",
       "    <tr>\n",
       "      <th>0</th>\n",
       "      <td>0.0</td>\n",
       "      <td>2679.939569</td>\n",
       "      <td>3347.669489</td>\n",
       "      <td>5745.486746</td>\n",
       "      <td>-625.218140</td>\n",
       "      <td>111.320938</td>\n",
       "      <td>6.326994</td>\n",
       "      <td>34.757614</td>\n",
       "      <td>31.619902</td>\n",
       "      <td>-4.714646</td>\n",
       "      <td>...</td>\n",
       "      <td>-10.702963</td>\n",
       "      <td>-11.202637</td>\n",
       "      <td>-12.003523</td>\n",
       "      <td>-8.489580</td>\n",
       "      <td>-5.463276</td>\n",
       "      <td>-4.954216</td>\n",
       "      <td>-3.715198</td>\n",
       "      <td>-6.330529</td>\n",
       "      <td>-6.338474</td>\n",
       "      <td>twenties</td>\n",
       "    </tr>\n",
       "    <tr>\n",
       "      <th>1</th>\n",
       "      <td>1.0</td>\n",
       "      <td>2859.467798</td>\n",
       "      <td>2576.661658</td>\n",
       "      <td>4912.241181</td>\n",
       "      <td>-469.897675</td>\n",
       "      <td>126.299873</td>\n",
       "      <td>-16.546749</td>\n",
       "      <td>3.553606</td>\n",
       "      <td>2.178288</td>\n",
       "      <td>13.770478</td>\n",
       "      <td>...</td>\n",
       "      <td>-10.987108</td>\n",
       "      <td>1.146530</td>\n",
       "      <td>6.103549</td>\n",
       "      <td>-1.724739</td>\n",
       "      <td>-1.226475</td>\n",
       "      <td>-6.429199</td>\n",
       "      <td>-7.261915</td>\n",
       "      <td>-4.788061</td>\n",
       "      <td>-3.121077</td>\n",
       "      <td>seventies</td>\n",
       "    </tr>\n",
       "    <tr>\n",
       "      <th>2</th>\n",
       "      <td>0.0</td>\n",
       "      <td>1976.049163</td>\n",
       "      <td>1830.611037</td>\n",
       "      <td>3344.301008</td>\n",
       "      <td>-418.205048</td>\n",
       "      <td>147.668320</td>\n",
       "      <td>-49.972744</td>\n",
       "      <td>-2.285531</td>\n",
       "      <td>37.187012</td>\n",
       "      <td>-8.904264</td>\n",
       "      <td>...</td>\n",
       "      <td>-13.845863</td>\n",
       "      <td>-9.927490</td>\n",
       "      <td>-7.871619</td>\n",
       "      <td>-5.473860</td>\n",
       "      <td>-2.295655</td>\n",
       "      <td>-6.554991</td>\n",
       "      <td>-5.206914</td>\n",
       "      <td>-0.407431</td>\n",
       "      <td>-3.882371</td>\n",
       "      <td>thirties</td>\n",
       "    </tr>\n",
       "    <tr>\n",
       "      <th>3</th>\n",
       "      <td>1.0</td>\n",
       "      <td>2333.782018</td>\n",
       "      <td>2533.276030</td>\n",
       "      <td>4398.731436</td>\n",
       "      <td>-464.911224</td>\n",
       "      <td>118.436134</td>\n",
       "      <td>19.749296</td>\n",
       "      <td>27.143938</td>\n",
       "      <td>26.439018</td>\n",
       "      <td>2.309575</td>\n",
       "      <td>...</td>\n",
       "      <td>-5.458494</td>\n",
       "      <td>-2.907650</td>\n",
       "      <td>-4.495940</td>\n",
       "      <td>-2.715732</td>\n",
       "      <td>-0.079105</td>\n",
       "      <td>-5.292979</td>\n",
       "      <td>-5.866175</td>\n",
       "      <td>0.601412</td>\n",
       "      <td>-3.376775</td>\n",
       "      <td>sixties</td>\n",
       "    </tr>\n",
       "    <tr>\n",
       "      <th>4</th>\n",
       "      <td>1.0</td>\n",
       "      <td>2351.958974</td>\n",
       "      <td>2974.758776</td>\n",
       "      <td>4743.172457</td>\n",
       "      <td>-343.828766</td>\n",
       "      <td>157.151764</td>\n",
       "      <td>7.660183</td>\n",
       "      <td>41.900478</td>\n",
       "      <td>-15.153757</td>\n",
       "      <td>28.925409</td>\n",
       "      <td>...</td>\n",
       "      <td>0.101646</td>\n",
       "      <td>6.319596</td>\n",
       "      <td>-1.603062</td>\n",
       "      <td>3.837600</td>\n",
       "      <td>-2.643968</td>\n",
       "      <td>2.324786</td>\n",
       "      <td>-1.382977</td>\n",
       "      <td>3.790324</td>\n",
       "      <td>-3.534814</td>\n",
       "      <td>fifties</td>\n",
       "    </tr>\n",
       "  </tbody>\n",
       "</table>\n",
       "<p>5 rows × 25 columns</p>\n",
       "</div>"
      ],
      "text/plain": [
       "   gender  spectral_centroid  spectral_bandwidth  spectral_rolloff  \\\n",
       "0     0.0        2679.939569         3347.669489       5745.486746   \n",
       "1     1.0        2859.467798         2576.661658       4912.241181   \n",
       "2     0.0        1976.049163         1830.611037       3344.301008   \n",
       "3     1.0        2333.782018         2533.276030       4398.731436   \n",
       "4     1.0        2351.958974         2974.758776       4743.172457   \n",
       "\n",
       "        mfcc1       mfcc2      mfcc3      mfcc4      mfcc5      mfcc6  ...  \\\n",
       "0 -625.218140  111.320938   6.326994  34.757614  31.619902  -4.714646  ...   \n",
       "1 -469.897675  126.299873 -16.546749   3.553606   2.178288  13.770478  ...   \n",
       "2 -418.205048  147.668320 -49.972744  -2.285531  37.187012  -8.904264  ...   \n",
       "3 -464.911224  118.436134  19.749296  27.143938  26.439018   2.309575  ...   \n",
       "4 -343.828766  157.151764   7.660183  41.900478 -15.153757  28.925409  ...   \n",
       "\n",
       "      mfcc12     mfcc13     mfcc14    mfcc15    mfcc16    mfcc17    mfcc18  \\\n",
       "0 -10.702963 -11.202637 -12.003523 -8.489580 -5.463276 -4.954216 -3.715198   \n",
       "1 -10.987108   1.146530   6.103549 -1.724739 -1.226475 -6.429199 -7.261915   \n",
       "2 -13.845863  -9.927490  -7.871619 -5.473860 -2.295655 -6.554991 -5.206914   \n",
       "3  -5.458494  -2.907650  -4.495940 -2.715732 -0.079105 -5.292979 -5.866175   \n",
       "4   0.101646   6.319596  -1.603062  3.837600 -2.643968  2.324786 -1.382977   \n",
       "\n",
       "     mfcc19    mfcc20      label  \n",
       "0 -6.330529 -6.338474   twenties  \n",
       "1 -4.788061 -3.121077  seventies  \n",
       "2 -0.407431 -3.882371   thirties  \n",
       "3  0.601412 -3.376775    sixties  \n",
       "4  3.790324 -3.534814    fifties  \n",
       "\n",
       "[5 rows x 25 columns]"
      ]
     },
     "execution_count": 9,
     "metadata": {},
     "output_type": "execute_result"
    }
   ],
   "source": [
    "#the function create dataframe to store the feature and label related to each other\n",
    "def create_df_features(orig):\n",
    "    new_rows = list()\n",
    "    tot_rows = len(orig)-1\n",
    "    stop_counter = 55001\n",
    "    \n",
    "    for idx, row in orig.iterrows():\n",
    "        if idx >= stop_counter: break\n",
    "        print(\"\\r\", end=\"\")\n",
    "        print(\"{}/{}\".format(idx, tot_rows), end=\"\", flush=True)\n",
    "        features = feature_extraction(row['filename'])\n",
    "        features.append(row['age'])\n",
    "        new_rows.append(features)\n",
    "\n",
    "    return pd.DataFrame(new_rows, columns=[\"gender\", \"spectral_centroid\", \"spectral_bandwidth\", \"spectral_rolloff\",\n",
    "                                    \"mfcc1\", \"mfcc2\", \"mfcc3\", \"mfcc4\", \"mfcc5\", \"mfcc6\", \"mfcc7\", \"mfcc8\",\n",
    "                                   \"mfcc9\", \"mfcc10\", \"mfcc11\", \"mfcc12\", \"mfcc13\", \"mfcc14\", \"mfcc15\", \"mfcc16\",\n",
    "                                   \"mfcc17\", \"mfcc18\", \"mfcc19\", \"mfcc20\", \"label\"])\n",
    "\n",
    "df_features = create_df_features(data)\n",
    "df_features.head()"
   ]
  },
  {
   "cell_type": "markdown",
   "id": "extended-secret",
   "metadata": {
    "papermill": {
     "duration": 16.16087,
     "end_time": "2022-12-28T20:27:50.807658",
     "exception": false,
     "start_time": "2022-12-28T20:27:34.646788",
     "status": "completed"
    },
    "tags": []
   },
   "source": [
    "### **Feature Transformation**  \n",
    "\n",
    "Scaling the features with the scikit-learn StandardScaler."
   ]
  },
  {
   "cell_type": "code",
   "execution_count": 10,
   "id": "chemical-costa",
   "metadata": {
    "execution": {
     "iopub.execute_input": "2022-12-28T20:28:23.230083Z",
     "iopub.status.busy": "2022-12-28T20:28:23.229393Z",
     "iopub.status.idle": "2022-12-28T20:28:23.261140Z",
     "shell.execute_reply": "2022-12-28T20:28:23.260270Z",
     "shell.execute_reply.started": "2021-06-01T15:17:49.696417Z"
    },
    "papermill": {
     "duration": 16.26355,
     "end_time": "2022-12-28T20:28:23.261345",
     "exception": false,
     "start_time": "2022-12-28T20:28:06.997795",
     "status": "completed"
    },
    "tags": []
   },
   "outputs": [],
   "source": [
    "from sklearn.preprocessing import StandardScaler\n",
    "\n",
    "def scale_features(data):\n",
    "    scaler = StandardScaler()\n",
    "    scaled_data = scaler.fit_transform(np.array(data.iloc[:, 0:-1], dtype = float))\n",
    "    # with data.iloc[:, 0:-1] we don't consider the label column\n",
    "        \n",
    "    return scaled_data, scaler\n",
    "\n",
    "x, scaler = scale_features(df_features)"
   ]
  },
  {
   "cell_type": "code",
   "execution_count": 11,
   "id": "aquatic-spray",
   "metadata": {
    "execution": {
     "iopub.execute_input": "2022-12-28T20:28:55.483254Z",
     "iopub.status.busy": "2022-12-28T20:28:55.482578Z",
     "iopub.status.idle": "2022-12-28T20:28:55.490486Z",
     "shell.execute_reply": "2022-12-28T20:28:55.489954Z",
     "shell.execute_reply.started": "2021-06-01T15:17:58.482886Z"
    },
    "papermill": {
     "duration": 16.066671,
     "end_time": "2022-12-28T20:28:55.490676",
     "exception": false,
     "start_time": "2022-12-28T20:28:39.424005",
     "status": "completed"
    },
    "tags": []
   },
   "outputs": [
    {
     "name": "stdout",
     "output_type": "stream",
     "text": [
      "Before scaling: [0.0 2679.9395691628692 3347.669488765762 5745.486745886655\n",
      " -625.2181396484375 111.32093811035156 6.3269944190979 34.75761413574219\n",
      " 31.619901657104492 -4.714645862579346 -0.486030638217926\n",
      " -4.934024333953857 -12.714733123779297 -2.0551483631134033\n",
      " -3.7411177158355713 -10.702962875366211 -11.20263671875\n",
      " -12.003522872924805 -8.489580154418945 -5.463275909423828\n",
      " -4.954216480255127 -3.715198278427124 -6.330528736114502\n",
      " -6.338474273681641]\n",
      "\n",
      "After scaling: [-1.73152724 -0.25960186  0.71093387  0.16477031 -1.99980957 -0.21295798\n",
      "  0.48681379  0.77058697  1.67546465 -0.87158701  0.16547421 -0.27995358\n",
      " -1.09142434  0.46285236 -0.01711303 -1.1904704  -1.70870143 -1.33381014\n",
      " -1.18695505 -0.56161472 -0.36905976 -0.50784715 -1.03844068 -0.64842027]\n"
     ]
    }
   ],
   "source": [
    "print(\"Before scaling:\", df_features.iloc[0].values[:-1])\n",
    "print(\"\\nAfter scaling:\", x[0])"
   ]
  },
  {
   "cell_type": "code",
   "execution_count": 12,
   "id": "rapid-cincinnati",
   "metadata": {
    "execution": {
     "iopub.execute_input": "2022-12-28T20:29:28.052012Z",
     "iopub.status.busy": "2022-12-28T20:29:28.051311Z",
     "iopub.status.idle": "2022-12-28T20:29:28.056049Z",
     "shell.execute_reply": "2022-12-28T20:29:28.056598Z",
     "shell.execute_reply.started": "2021-06-01T11:47:50.805587Z"
    },
    "papermill": {
     "duration": 16.256335,
     "end_time": "2022-12-28T20:29:28.056775",
     "exception": false,
     "start_time": "2022-12-28T20:29:11.800440",
     "status": "completed"
    },
    "tags": []
   },
   "outputs": [
    {
     "data": {
      "text/plain": [
       "array(['twenties', 'seventies', 'thirties', 'sixties', 'fifties',\n",
       "       'fourties', 'teens', 'eighties'], dtype=object)"
      ]
     },
     "execution_count": 12,
     "metadata": {},
     "output_type": "execute_result"
    }
   ],
   "source": [
    "df_features['label'].unique()\n"
   ]
  },
  {
   "cell_type": "code",
   "execution_count": 13,
   "id": "authorized-liberal",
   "metadata": {
    "execution": {
     "iopub.execute_input": "2022-12-28T20:30:00.418758Z",
     "iopub.status.busy": "2022-12-28T20:30:00.418031Z",
     "iopub.status.idle": "2022-12-28T20:30:00.442222Z",
     "shell.execute_reply": "2022-12-28T20:30:00.442903Z",
     "shell.execute_reply.started": "2021-06-01T15:18:11.761386Z"
    },
    "papermill": {
     "duration": 16.170531,
     "end_time": "2022-12-28T20:30:00.443091",
     "exception": false,
     "start_time": "2022-12-28T20:29:44.272560",
     "status": "completed"
    },
    "tags": []
   },
   "outputs": [
    {
     "name": "stdout",
     "output_type": "stream",
     "text": [
      "Before encoding: twenties\n",
      "\n",
      "After encoding: 7\n",
      "\n",
      "Classes: ['eighties' 'fifties' 'fourties' 'seventies' 'sixties' 'teens' 'thirties'\n",
      " 'twenties']\n"
     ]
    }
   ],
   "source": [
    "from sklearn.preprocessing import LabelEncoder\n",
    "\n",
    "def get_labels(data):\n",
    "    labels = data.iloc[:, -1]\n",
    "    encoder = LabelEncoder()\n",
    "    labels = encoder.fit_transform(labels)\n",
    "    return labels, encoder\n",
    "\n",
    "y, encoder = get_labels(df_features)\n",
    "classes = encoder.classes_\n",
    "print(\"Before encoding:\", df_features.iloc[0].values[-1])\n",
    "print(\"\\nAfter encoding:\", y[0])\n",
    "print(\"\\nClasses:\", classes)"
   ]
  },
  {
   "cell_type": "markdown",
   "id": "naughty-nirvana",
   "metadata": {
    "papermill": {
     "duration": 16.240084,
     "end_time": "2022-12-28T20:30:32.960931",
     "exception": false,
     "start_time": "2022-12-28T20:30:16.720847",
     "status": "completed"
    },
    "tags": []
   },
   "source": [
    "### **Feature Selection**  \n",
    "\n",
    "We use the ANOVA (ANalysis Of VAriance) statistical technique (f_classif) to select the best 22 features.\n"
   ]
  },
  {
   "cell_type": "code",
   "execution_count": 14,
   "id": "amazing-sacrifice",
   "metadata": {
    "execution": {
     "iopub.execute_input": "2022-12-28T20:31:05.202267Z",
     "iopub.status.busy": "2022-12-28T20:31:05.201554Z",
     "iopub.status.idle": "2022-12-28T20:31:05.572675Z",
     "shell.execute_reply": "2022-12-28T20:31:05.572021Z",
     "shell.execute_reply.started": "2021-06-01T15:18:29.296129Z"
    },
    "papermill": {
     "duration": 16.557727,
     "end_time": "2022-12-28T20:31:05.572823",
     "exception": false,
     "start_time": "2022-12-28T20:30:49.015096",
     "status": "completed"
    },
    "tags": []
   },
   "outputs": [
    {
     "data": {
      "image/png": "[encoded data removed]",
      "text/plain": [
       "<Figure size 1584x360 with 1 Axes>"
      ]
     },
     "metadata": {},
     "output_type": "display_data"
    }
   ],
   "source": [
    "from sklearn.feature_selection import SelectKBest\n",
    "from sklearn.feature_selection import f_classif\n",
    "\n",
    "n_features = 22\n",
    "\n",
    "f_selector = SelectKBest(f_classif, k=n_features).fit(x, y)\n",
    "X_new = f_selector.transform(x)\n",
    "scores = f_selector.scores_\n",
    "\n",
    "indices = np.argsort(scores)[::-1]\n",
    "\n",
    "features = []\n",
    "for i in range(n_features):\n",
    "    features.append(df_features.columns[indices[i]])\n",
    "    \n",
    "plt.figure(figsize=(22, 5))\n",
    "plt.bar(features, scores[indices[range(n_features)]], color='g')\n",
    "plt.xticks(fontsize=8)\n",
    "plt.show()\n"
   ]
  },
  {
   "cell_type": "markdown",
   "id": "danish-dispatch",
   "metadata": {
    "papermill": {
     "duration": 16.135742,
     "end_time": "2022-12-28T20:31:38.021509",
     "exception": false,
     "start_time": "2022-12-28T20:31:21.885767",
     "status": "completed"
    },
    "tags": []
   },
   "source": [
    "### **Model Selection**  \n",
    "\n",
    "Here, we consider two classifiers:\n",
    "\n",
    "    Support Vector Machine\n",
    "    Random Forest\n",
    "\n",
    "We evaluate them with the K-Fold Cross-Validation technique. At each iteration of this outer cross-validation process, we tune the hyper-parameters of the classifiers with another (inner) Cross-Validation process , that will further divide the training set into training and validation data.\n",
    "\n",
    "At each iteration of the outer CV process, we print the F1-Score obtained by the tuned classifier on the validation data, but also the F1-Score computed on the test data. Finally, we print the average F1-Scores computed on the test data at each step of the outer CV process."
   ]
  },
  {
   "cell_type": "code",
   "execution_count": 15,
   "id": "covered-choir",
   "metadata": {
    "execution": {
     "iopub.execute_input": "2022-12-28T20:32:10.264599Z",
     "iopub.status.busy": "2022-12-28T20:32:10.263901Z",
     "iopub.status.idle": "2022-12-28T21:37:20.017977Z",
     "shell.execute_reply": "2022-12-28T21:37:20.017179Z",
     "shell.execute_reply.started": "2021-06-01T15:18:39.952677Z"
    },
    "papermill": {
     "duration": 3925.824223,
     "end_time": "2022-12-28T21:37:20.018150",
     "exception": false,
     "start_time": "2022-12-28T20:31:54.193927",
     "status": "completed"
    },
    "tags": []
   },
   "outputs": [
    {
     "name": "stdout",
     "output_type": "stream",
     "text": [
      "SVC\n",
      "\tFold 1, Best Params {'C': 100, 'gamma': 'scale'} with F1 Score 0.765, F1 Score on Test data 0.830\n",
      "\tFold 2, Best Params {'C': 100, 'gamma': 'auto'} with F1 Score 0.764, F1 Score on Test data 0.830\n",
      "\tFold 3, Best Params {'C': 100, 'gamma': 'auto'} with F1 Score 0.769, F1 Score on Test data 0.825\n",
      "\tAverage F1 Score on Test Set: 0.828\n",
      "\n",
      "RandomForestClassifier\n",
      "\tFold 1, Best Params {'n_estimators': 150} with F1 Score 0.646, F1 Score on Test data 0.728\n",
      "\tFold 2, Best Params {'n_estimators': 150} with F1 Score 0.640, F1 Score on Test data 0.706\n",
      "\tFold 3, Best Params {'n_estimators': 150} with F1 Score 0.642, F1 Score on Test data 0.715\n",
      "\tAverage F1 Score on Test Set: 0.716\n",
      "\n"
     ]
    }
   ],
   "source": [
    "from sklearn.model_selection import KFold\n",
    "from sklearn.model_selection import GridSearchCV\n",
    "from sklearn.svm import SVC\n",
    "from sklearn.ensemble import RandomForestClassifier\n",
    "from sklearn.metrics import f1_score\n",
    "\n",
    "classifiers_and_params = [\n",
    "    (SVC(), {'C': [200, 150, 100], 'gamma': ['auto', 'scale']}),\n",
    "    (RandomForestClassifier(), {'n_estimators': [100, 150, 200]})\n",
    "]\n",
    "\n",
    "for tup in classifiers_and_params:\n",
    "    print(\"{}\".format(tup[0].__class__.__name__))\n",
    "    \n",
    "    # the main CV process\n",
    "    outer_cv = KFold(n_splits=3, shuffle=True, random_state=0)\n",
    "    fold_counter = 0\n",
    "\n",
    "    results = list()\n",
    "    for train_idx, test_idx in outer_cv.split(X_new):\n",
    "        fold_counter += 1\n",
    "        \n",
    "        # split data in training and test sets\n",
    "        X_train, X_test = X_new[train_idx], X_new[test_idx]\n",
    "        y_train, y_test = y[train_idx], y[test_idx]\n",
    "\n",
    "        # the CV process used for the Grid Search\n",
    "        inner_cv = KFold(n_splits=2, shuffle=True, random_state=0)\n",
    "\n",
    "        # define and run the Grid Search CV process\n",
    "        gs = GridSearchCV(tup[0], tup[1], scoring='f1_macro', cv=inner_cv, refit=True)\n",
    "        res = gs.fit(X_train, y_train)\n",
    "\n",
    "        # get the best model, re-fit on the whole training set\n",
    "        best_model = res.best_estimator_\n",
    "\n",
    "        # evaluation on the test set\n",
    "        pred = best_model.predict(X_test)\n",
    "        score = f1_score(y_test, pred, average='macro')\n",
    "        results.append(score)\n",
    "        \n",
    "        print(\"\\tFold {}, Best Params {} with F1 Score {:.3f}, F1 Score on Test data {:.3f}\"\n",
    "              .format(fold_counter, res.best_params_, res.best_score_, score))\n",
    "\n",
    "    print('\\tAverage F1 Score on Test Set: {:.3f}\\n'.format(np.mean(results)))"
   ]
  },
  {
   "cell_type": "code",
   "execution_count": 16,
   "id": "herbal-return",
   "metadata": {
    "execution": {
     "iopub.execute_input": "2022-12-28T21:37:52.244214Z",
     "iopub.status.busy": "2022-12-28T21:37:52.243525Z",
     "iopub.status.idle": "2022-12-28T21:37:52.246437Z",
     "shell.execute_reply": "2022-12-28T21:37:52.246891Z",
     "shell.execute_reply.started": "2021-06-01T16:45:37.108783Z"
    },
    "papermill": {
     "duration": 16.083402,
     "end_time": "2022-12-28T21:37:52.247087",
     "exception": false,
     "start_time": "2022-12-28T21:37:36.163685",
     "status": "completed"
    },
    "tags": []
   },
   "outputs": [],
   "source": [
    "import itertools\n",
    "import matplotlib.pyplot as plt\n",
    "\n",
    "def my_plot_confusion_matrix(cm, classes, normalize=False):\n",
    "    if normalize:\n",
    "        cm = cm.astype('float') / cm.sum(axis=1)[:, np.newaxis]\n",
    "        title = \"Normalized Confusion Matrix\"\n",
    "    else:\n",
    "        title = \"Confusion Matrix (without normalization)\"\n",
    "    \n",
    "    plt.imshow(cm, interpolation='nearest', cmap=plt.cm.Blues)\n",
    "    plt.colorbar()\n",
    "    tick_marks = np.arange(len(classes))\n",
    "    plt.xticks(tick_marks, classes, rotation=45)\n",
    "    plt.yticks(tick_marks, classes)\n",
    "    plt.title(title)\n",
    "\n",
    "    thresh = cm.max() / 2.\n",
    "    fmt = \"{:0.2f}\" if normalize else \"{:d}\"\n",
    "    for i, j in itertools.product(range(cm.shape[0]), range(cm.shape[1])):\n",
    "        plt.text(j, i, fmt.format(cm[i, j]),\n",
    "                 horizontalalignment=\"center\",\n",
    "                 color=\"white\" if cm[i, j] > thresh else \"black\")\n",
    "\n",
    "    plt.tight_layout()\n",
    "    plt.ylabel('True label')\n",
    "    plt.xlabel('Predicted label')\n"
   ]
  },
  {
   "cell_type": "code",
   "execution_count": 17,
   "id": "banner-miami",
   "metadata": {
    "execution": {
     "iopub.execute_input": "2022-12-28T21:38:24.557950Z",
     "iopub.status.busy": "2022-12-28T21:38:24.556709Z",
     "iopub.status.idle": "2022-12-28T21:46:17.838394Z",
     "shell.execute_reply": "2022-12-28T21:46:17.838954Z",
     "shell.execute_reply.started": "2021-06-01T16:45:47.739594Z"
    },
    "papermill": {
     "duration": 489.446583,
     "end_time": "2022-12-28T21:46:17.839131",
     "exception": false,
     "start_time": "2022-12-28T21:38:08.392548",
     "status": "completed"
    },
    "tags": []
   },
   "outputs": [
    {
     "data": {
      "image/png": "[encoded data removed]",
      "text/plain": [
       "<Figure size 1080x360 with 2 Axes>"
      ]
     },
     "metadata": {},
     "output_type": "display_data"
    }
   ],
   "source": [
    "from sklearn.model_selection import train_test_split\n",
    "from sklearn.metrics import confusion_matrix\n",
    "\n",
    "X_train, X_test, y_train, y_test = train_test_split(X_new, y, test_size=0.2, random_state=0)\n",
    "\n",
    "model = SVC(C=100, gamma='scale')\n",
    "model.fit(X_train, y_train)\n",
    "y_pred = model.predict(X_test)\n",
    "\n",
    "cm = confusion_matrix(y_test, y_pred)\n",
    "\n",
    "plt.figure()\n",
    "my_plot_confusion_matrix(cm, classes=classes)\n",
    "\n",
    "plt.grid(False)\n",
    "plt.show()"
   ]
  },
  {
   "cell_type": "code",
   "execution_count": 18,
   "id": "involved-barcelona",
   "metadata": {
    "execution": {
     "iopub.execute_input": "2022-12-28T21:46:50.317236Z",
     "iopub.status.busy": "2022-12-28T21:46:50.316590Z",
     "iopub.status.idle": "2022-12-28T21:46:50.971716Z",
     "shell.execute_reply": "2022-12-28T21:46:50.971165Z",
     "shell.execute_reply.started": "2021-06-01T17:06:09.344214Z"
    },
    "papermill": {
     "duration": 16.928049,
     "end_time": "2022-12-28T21:46:50.971870",
     "exception": false,
     "start_time": "2022-12-28T21:46:34.043821",
     "status": "completed"
    },
    "tags": []
   },
   "outputs": [
    {
     "data": {
      "image/png": "[encoded data removed]",
      "text/plain": [
       "<Figure size 1080x360 with 2 Axes>"
      ]
     },
     "metadata": {},
     "output_type": "display_data"
    }
   ],
   "source": [
    "# Plot normalized confusion matrix\n",
    "plt.figure()\n",
    "my_plot_confusion_matrix(cm, classes=classes, normalize=True)\n",
    "\n",
    "plt.grid(False)\n",
    "plt.show()\n",
    "\n"
   ]
  },
  {
   "cell_type": "code",
   "execution_count": 19,
   "id": "skilled-bangkok",
   "metadata": {
    "execution": {
     "iopub.execute_input": "2022-12-28T21:47:23.321000Z",
     "iopub.status.busy": "2022-12-28T21:47:23.319850Z",
     "iopub.status.idle": "2022-12-28T21:47:23.332781Z",
     "shell.execute_reply": "2022-12-28T21:47:23.333266Z",
     "shell.execute_reply.started": "2021-06-01T17:33:16.877162Z"
    },
    "papermill": {
     "duration": 16.213846,
     "end_time": "2022-12-28T21:47:23.333465",
     "exception": false,
     "start_time": "2022-12-28T21:47:07.119619",
     "status": "completed"
    },
    "tags": []
   },
   "outputs": [
    {
     "data": {
      "text/plain": [
       "['finalized_model.sav']"
      ]
     },
     "execution_count": 19,
     "metadata": {},
     "output_type": "execute_result"
    }
   ],
   "source": [
    "import joblib\n",
    "# save the model to disk\n",
    "filename = 'finalized_model.sav'\n",
    "joblib.dump(model, filename)"
   ]
  }
 ],
 "metadata": {
  "kernelspec": {
   "display_name": "Python 3",
   "language": "python",
   "name": "python3"
  },
  "language_info": {
   "codemirror_mode": {
    "name": "ipython",
    "version": 3
   },
   "file_extension": ".py",
   "mimetype": "text/x-python",
   "name": "python",
   "nbconvert_exporter": "python",
   "pygments_lexer": "ipython3",
   "version": "3.7.10"
  },
  "papermill": {
   "default_parameters": {},
   "duration": 15844.765638,
   "end_time": "2022-12-28T21:47:40.269803",
   "environment_variables": {},
   "exception": null,
   "input_path": "__notebook__.ipynb",
   "output_path": "__notebook__.ipynb",
   "parameters": {},
   "start_time": "2022-12-28T17:23:35.504165",
   "version": "2.3.3"
  }
 },
 "nbformat": 4,
 "nbformat_minor": 5
}
